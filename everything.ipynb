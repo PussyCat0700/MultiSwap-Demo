{
 "cells": [
  {
   "cell_type": "code",
   "execution_count": 1,
   "metadata": {},
   "outputs": [],
   "source": [
    "import shutil\n",
    "import os\n",
    "\n",
    "def copy_file(src, dest):\n",
    "    # 获取目标目录的父目录\n",
    "    dest_dir = os.path.dirname(dest)\n",
    "    \n",
    "    # 如果目标目录不存在，创建它\n",
    "    if not os.path.exists(dest_dir):\n",
    "        os.makedirs(dest_dir)\n",
    "    \n",
    "    # 复制文件\n",
    "    shutil.copy(src, dest)\n",
    "    print(f\"File copied from {src} to {dest}\")"
   ]
  },
  {
   "cell_type": "markdown",
   "metadata": {},
   "source": [
    "# Move Converted Samples on LRS3"
   ]
  },
  {
   "cell_type": "code",
   "execution_count": null,
   "metadata": {},
   "outputs": [],
   "source": [
    "import argparse\n",
    "from glob import glob\n",
    "import os\n",
    "from pathlib import Path\n",
    "\n",
    "\n",
    "# # 设置命令行参数\n",
    "# parser = argparse.ArgumentParser(description='Copy a file to a specified directory.')\n",
    "# parser.add_argument('wavpath')\n",
    "# # 解析参数\n",
    "# args = parser.parse_args()\n",
    "\n",
    "# 示例路径\n",
    "# src_path = f'/data0/yfliu/voxceleb2/frames/test/mp4/{args.wavpath}'\n",
    "# dest_path = f'speakers_imgs/{args.wavpath}'\n",
    "# src_path = f'/data0/yfliu/voxceleb2/audio/test/mp4/{args.wavpath}.wav'\n",
    "# dest_path = f'others_converted/{args.wavpath}.wav'\n",
    "# copy_file(src_path, dest_path)\n",
    "\n",
    "task_dict = {\n",
    "    # 'SP-FaceVC': '/data0/yfliu/lrs3/spfacevc/syn_clean',  # xTkKSJSqUSI_00025_E22icGCvGXk_00004_synthesis.wav\n",
    "    # 'FVMVC': '/data0/yfliu/outputs/zero_shot_facevc/lrs3/wav/test_samples',  # xTkKSJSqUSI_00025_test_E22icGCvGXk_00004_gen.wav\n",
    "    'A': '/data0/yfliu/outputs/baseline/nonparallel/output_top200/1gbs64_fvc_sbasedonc_lstmvclub_unit_finetuned/lrs3/test_samples',  # xTkKSJSqUSI/00025_test_E22icGCvGXk_00004_vc.mp3\n",
    "    'V': '/data0/yfliu/outputs/baseline/nonparallel/output_top200/1gbs64_vc_eres2net_lstmvclub_unit_finetuned_1.0/lrs3/test_samples',\n",
    "    'AV': '/data0/yfliu/outputs/baseline/nonparallel/output_top200/1gbs64_favc_corentinJ_lstmvclub_unit_resume30k_0.1/lrs3/av/test_samples',\n",
    "    # 'MuteSwap': '/data0/yfliu/outputs/baseline/nonparallel/output_top200/1gbs64_visvic_sbasedonc_fromscratch/lrs3/test_samples',\n",
    "    # 'MultiSwap-O (A)': '/data0/yfliu/outputs/baseline/nonparallel/output_top200/4gbs64_favc_corentinJ_lstmvclub_unit_resumed15k_0.1_5050/lrs3/a/test_samples',\n",
    "    # 'MultiSwap-O (V)': '/data0/yfliu/outputs/baseline/nonparallel/output_top200/4gbs64_favc_corentinJ_lstmvclub_unit_resumed15k_0.1_5050/lrs3/v/test_samples',\n",
    "    # 'MultiSwap-O (AV)': '/data0/yfliu/outputs/baseline/nonparallel/output_top200/4gbs64_favc_corentinJ_lstmvclub_unit_resumed15k_0.1_5050/lrs3/av/test_samples',\n",
    "}\n",
    "\n",
    "# 构建匹配模式\n",
    "base_dir = 'all_converted/lrs3'\n",
    "pattern = os.path.join(base_dir, '*/*_test_*_vc.mp4')  # 匹配如：7kkRkhAXZGg/00006_test_..._vc.mp4\n",
    "\n",
    "# 获取匹配到的文件\n",
    "mp4_files = glob(pattern)\n",
    "for filename in mp4_files:\n",
    "    for key in task_dict.keys():\n",
    "        rel_dirname = task_dict[key]\n",
    "        rel_basename = Path(filename).relative_to(base_dir)\n",
    "        src_path = f'{rel_dirname}/{rel_basename}'  # xTkKSJSqUSI/00025_test_E22icGCvGXk_00004\n",
    "        # rel_basename = '_'.join(rel_basename.split('/')[-2:]).replace('_test_', '_to_')\n",
    "        rel_basename = str(rel_basename).replace('_vc.mp4', f'_{key}.mp4')\n",
    "        dest_path = f'{base_dir}/{rel_basename}'  # xTkKSJSqUSI_00016_to_E22icGCvGXk_00006\n",
    "        copy_file(src_path, dest_path)"
   ]
  },
  {
   "cell_type": "markdown",
   "metadata": {},
   "source": [
    "# Move Vanilla Synthesis in LRS3"
   ]
  },
  {
   "cell_type": "code",
   "execution_count": null,
   "metadata": {},
   "outputs": [],
   "source": [
    "task_dict = {\n",
    "    'A': '/data0/yfliu/outputs/baseline/nonparallel/output_top200/1gbs64_fvc_sbasedonc_lstmvclub_unit_finetuned/lrs3/test_samples',  # xTkKSJSqUSI/00025_test_E22icGCvGXk_00004_vc.mp3\n",
    "    'V': '/data0/yfliu/outputs/baseline/nonparallel/output_top200/1gbs64_vc_eres2net_lstmvclub_unit_finetuned_1.0/lrs3/test_samples',\n",
    "    'AV': '/data0/yfliu/outputs/baseline/nonparallel/output_top200/1gbs64_favc_corentinJ_lstmvclub_unit_resume30k_0.1/lrs3/av/test_samples',\n",
    "}\n",
    "\n",
    "# 构建匹配模式\n",
    "base_dir = 'all_converted/lrs3'\n",
    "# 构建匹配模式，匹配任何类似00003_vc.mp4的文件\n",
    "pattern = os.path.join(base_dir, '*/*_vc.mp4')  # 匹配如：7kkRkhAXZGg/00003_vc.mp4, 00004_vc.mp4 等\n",
    "# 获取匹配到的文件\n",
    "matched_files = glob(pattern)\n",
    "\n",
    "# 获取匹配到的文件\n",
    "mp4_files = glob(pattern)\n",
    "for filename in mp4_files:\n",
    "    for key in task_dict.keys():\n",
    "        rel_dirname = task_dict[key]\n",
    "        rel_basename = Path(filename).relative_to(base_dir)\n",
    "        src_path = f'{rel_dirname}/{rel_basename}'  # xTkKSJSqUSI/00025_test_E22icGCvGXk_00004\n",
    "        # rel_basename = '_'.join(rel_basename.split('/')[-2:]).replace('_test_', '_to_')\n",
    "        rel_basename = str(rel_basename).replace('_vc.mp4', f'_{key}.mp4')\n",
    "        dest_path = f'{base_dir}/{rel_basename}'  # xTkKSJSqUSI_00016_to_E22icGCvGXk_00006\n",
    "        copy_file(src_path, dest_path)"
   ]
  },
  {
   "cell_type": "markdown",
   "metadata": {},
   "source": [
    "# Fix old-A's problem"
   ]
  },
  {
   "cell_type": "code",
   "execution_count": null,
   "metadata": {},
   "outputs": [],
   "source": []
  }
 ],
 "metadata": {
  "kernelspec": {
   "display_name": "oneflow",
   "language": "python",
   "name": "python3"
  },
  "language_info": {
   "codemirror_mode": {
    "name": "ipython",
    "version": 3
   },
   "file_extension": ".py",
   "mimetype": "text/x-python",
   "name": "python",
   "nbconvert_exporter": "python",
   "pygments_lexer": "ipython3",
   "version": "3.8.19"
  }
 },
 "nbformat": 4,
 "nbformat_minor": 2
}
